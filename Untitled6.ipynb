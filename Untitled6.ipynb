{
  "nbformat": 4,
  "nbformat_minor": 0,
  "metadata": {
    "colab": {
      "provenance": [],
      "authorship_tag": "ABX9TyM+Hw5c6vJj5cR8tSN/jcBU",
      "include_colab_link": true
    },
    "kernelspec": {
      "name": "python3",
      "display_name": "Python 3"
    },
    "language_info": {
      "name": "python"
    }
  },
  "cells": [
    {
      "cell_type": "markdown",
      "metadata": {
        "id": "view-in-github",
        "colab_type": "text"
      },
      "source": [
        "<a href=\"https://colab.research.google.com/github/Jannier21/Taller_4_Condicionales_000496984/blob/main/Untitled6.ipynb\" target=\"_parent\"><img src=\"https://colab.research.google.com/assets/colab-badge.svg\" alt=\"Open In Colab\"/></a>"
      ]
    },
    {
      "cell_type": "markdown",
      "source": [
        "# **Taller_4_condicionales**\n",
        "\n",
        "# **info. del estudiante**\n",
        "## **nombre**: jannier david navarro martinez\n",
        "## **ID**: 000496984\n",
        "## **universidad**: universidad pontificia bolivariana\n"
      ],
      "metadata": {
        "id": "mYHxYBqlPN6F"
      }
    },
    {
      "cell_type": "markdown",
      "source": [
        "# **problema 1**\n",
        "**1. calculadora de calificaciones**\n",
        "\n",
        "Escribe un programa en Python que solicite al usuario ingresar una calificación numérica (de 0 a 5) y luego muestre un mensaje que diga si el estudiante aprobó o reprobó. UDliza una estructura\n",
        "selecDva doble (if - else).\n",
        "\n",
        "\n",
        "\n",
        "# **solucion**\n"
      ],
      "metadata": {
        "id": "F7g6VvbkQufh"
      }
    },
    {
      "cell_type": "code",
      "source": [
        "print(\"con este programa calcularemos calificaciones\")\n",
        "print(\"_\"*40)\n",
        "a=float(input(\"primera nota\"))\n",
        "b=float(input(\"segunda nota\"))\n",
        "c=float(input(\"tercera nota\"))\n",
        "print(\"_\"*40)\n",
        "x = (a + b + c) / 3\n",
        "print(str(x))\n",
        "print(\"_\"*40)\n",
        "print(\"continue para saber su resultado de aprovacion\")\n",
        "\n"
      ],
      "metadata": {
        "colab": {
          "base_uri": "https://localhost:8080/"
        },
        "id": "YKPHUMckRnjv",
        "outputId": "e3fcd8c5-23d4-4188-c04d-82720d2fee26"
      },
      "execution_count": 51,
      "outputs": [
        {
          "output_type": "stream",
          "name": "stdout",
          "text": [
            "con este programa calcularemos calificaciones\n",
            "________________________________________\n",
            "primera nota3.0\n",
            "segunda nota3.5\n",
            "tercera nota3.0\n",
            "________________________________________\n",
            "3.1666666666666665\n",
            "________________________________________\n",
            "continue para saber su resultado de aprovacion\n"
          ]
        }
      ]
    },
    {
      "cell_type": "code",
      "source": [
        "resultado = float(input(\"ingrese su calicicanion final: \"))\n",
        "print(\"_\"*40)\n",
        "if resultado>=3:\n",
        "  print(\"aprovado\")\n",
        "\n",
        "else:\n",
        "  print(\"reprovado\")"
      ],
      "metadata": {
        "colab": {
          "base_uri": "https://localhost:8080/"
        },
        "id": "VHWPAUa7lrwV",
        "outputId": "cb65f3d2-9649-4f6d-9939-74d80479bc7f"
      },
      "execution_count": 81,
      "outputs": [
        {
          "output_type": "stream",
          "name": "stdout",
          "text": [
            "ingrese su calicicanion final: 3.16\n",
            "________________________________________\n",
            "aprovado\n"
          ]
        }
      ]
    },
    {
      "cell_type": "markdown",
      "source": [
        "# **problema 2**\n",
        "**2. Verificar si un número es positivo, negativo o cero**\n",
        "\n",
        "Escribe un programa en Python que solicite al usuario ingresar un número y luego determine e imprima si el número es positivo, negativo o cero utilizando estructuras selectivas doble (if - else).\n",
        "\n",
        "# **solucion**"
      ],
      "metadata": {
        "id": "JYFPVCOinwoY"
      }
    },
    {
      "cell_type": "code",
      "source": [
        "print(\"el programa identificara si el numero es, positivo, negativo, o cero.\")\n",
        "print(\"_\"*40)\n",
        "i = float(input(\"digite el numero para identificar su condicion:  \"))\n",
        "print(\"_\"*40)\n",
        "if i > 0:\n",
        "  print(\"positivo\")\n",
        "\n",
        "if i < 0:\n",
        "  print(\"negativo\")\n",
        "\n",
        "if i == 0:\n",
        "  print(\"igual a cero\")\n"
      ],
      "metadata": {
        "colab": {
          "base_uri": "https://localhost:8080/"
        },
        "id": "c1mJMUGno7Ff",
        "outputId": "bf4c9135-8f86-4c43-fc47-b037765c221f"
      },
      "execution_count": 82,
      "outputs": [
        {
          "output_type": "stream",
          "name": "stdout",
          "text": [
            "el programa identificara si el numero es, positivo, negativo, o cero.\n",
            "________________________________________\n",
            "digite el numero para identificar su condicion:  0\n",
            "________________________________________\n",
            "igual a cero\n"
          ]
        }
      ]
    },
    {
      "cell_type": "markdown",
      "source": [
        "# **problema 3**\n",
        "\n",
        "## **3. Validación de contraseña**\n",
        "\n",
        "Escribe un programa en Python que solicite al usuario ingresar una contraseña. Si la contraseña es \"python123\", el programa debe imprimir \"Contraseña válida\". De lo contrario, debe imprimir \"Contraseña incorrecta\". Utiliza una estructura selectiva doble (if - else).\n",
        "\n",
        "# **solucion**"
      ],
      "metadata": {
        "id": "l-BKofa7r0wL"
      }
    },
    {
      "cell_type": "code",
      "source": [
        "print(\"ingresa la contrasena para entrar a su perfil\")\n",
        "print(\"_\"*40)\n",
        "contra = input(\"ingresa la contrasena:\" )\n",
        "print(\"_\"*40)\n",
        "if contra == \"python123\":\n",
        "  print(\"contrasena correcta\")\n",
        "\n",
        "else :\n",
        "  print(\"contrasena incorrecta\")"
      ],
      "metadata": {
        "colab": {
          "base_uri": "https://localhost:8080/"
        },
        "id": "D6Pple9BsgX7",
        "outputId": "9726e155-b6d8-4822-9560-a6da87e39998"
      },
      "execution_count": 83,
      "outputs": [
        {
          "output_type": "stream",
          "name": "stdout",
          "text": [
            "ingresa la contrasena para entrar a su perfil\n",
            "________________________________________\n",
            "ingresa la contrasena:123\n",
            "________________________________________\n",
            "contrasena incorrecta\n"
          ]
        }
      ]
    },
    {
      "cell_type": "markdown",
      "source": [
        "# **problema 4**\n",
        "\n",
        "## **4. Determinar si un número es par o impar**\n",
        "\n",
        "Escribe un programa en Python que solicite al usuario ingresar un número y determine e imprima si el número es par o impar utilizando una estructura selectiva doble (if - else).\n",
        "\n",
        "# **solucion**"
      ],
      "metadata": {
        "id": "wpP6NxkGuMfL"
      }
    },
    {
      "cell_type": "code",
      "source": [
        "print(\"este programa determinara si el numero ingresado es par o impar\")\n",
        "\n",
        "d = float(input(\"ingresa el numero:\" ))\n",
        "print(\"_\"*40)\n",
        "\n",
        "if d % 2 == 0:\n",
        "  print(\"par\")\n",
        "else:\n",
        "  print(\"impar\")"
      ],
      "metadata": {
        "colab": {
          "base_uri": "https://localhost:8080/"
        },
        "id": "5L9miTlzuyAM",
        "outputId": "d8bfc606-c847-4799-ce4a-a4f10526be1a"
      },
      "execution_count": 84,
      "outputs": [
        {
          "output_type": "stream",
          "name": "stdout",
          "text": [
            "este programa determinara si el numero ingresado es par o impar\n",
            "ingresa el numero:5\n",
            "________________________________________\n",
            "impar\n"
          ]
        }
      ]
    },
    {
      "cell_type": "markdown",
      "source": [
        "# **problema 5**\n",
        "\n",
        "## **5. Determinar el número mayor**\n",
        "\n",
        "Escribe un programa en Python que solicite al usuario ingresar cinco números y luego determine e imprima cuál de los cinco números es mayor utilizando estructuras selectivas doble (if - else).\n",
        "\n",
        "# **solucion**"
      ],
      "metadata": {
        "id": "jx0DgZw3wNOe"
      }
    },
    {
      "cell_type": "code",
      "source": [
        "print(\"este programa te dira que numero es mayor que todos\")\n",
        "print(\"_\"*40)\n",
        "n = float(input(\"ingresa el numer:\"))\n",
        "n = float(input(\"ingresa el numer:\"))\n",
        "n = float(input(\"ingresa el numer:\"))\n",
        "n = float(input(\"ingresa el numer:\"))\n",
        "n = float(input(\"ingresa el numer:\"))\n",
        "print(\"_\"*40)\n",
        "if n >= 8:\n",
        "  print(\"numero mayor es 8\")\n",
        "else:\n",
        "  print(\"numero menor\")"
      ],
      "metadata": {
        "colab": {
          "base_uri": "https://localhost:8080/"
        },
        "id": "6Ngd6zbawozH",
        "outputId": "2fe7eca5-7ca8-4595-9dee-f424b55ad0f0"
      },
      "execution_count": 94,
      "outputs": [
        {
          "output_type": "stream",
          "name": "stdout",
          "text": [
            "este programa te dira que numero es mayor que todos\n",
            "________________________________________\n",
            "ingresa el numer:2\n",
            "ingresa el numer:4\n",
            "ingresa el numer:6\n",
            "ingresa el numer:1\n",
            "ingresa el numer:8\n",
            "________________________________________\n",
            "numero mayor es 8\n"
          ]
        }
      ]
    },
    {
      "cell_type": "markdown",
      "source": [
        "# **problema 6**\n",
        "\n",
        "## **6. Categorizar edades**\n",
        "\n",
        "Escribe un programa en Python que solicite al usuario ingresar una edad y determine e imprima en qué categoría se encuentra la persona: \"Niño\" (0-12 años), \"Adolescente\" (13-19 años), \"Adulto\" (20-64 años) o \"Adulto Mayor\" (65 o más años).\n",
        "\n",
        "\n",
        "#**solucion**\n"
      ],
      "metadata": {
        "id": "vQBWt-r3y6Fr"
      }
    },
    {
      "cell_type": "code",
      "source": [
        "print(\"con este programa podemos saber en que rango de nuestra edad estamos\")\n",
        "print(\"_\"*40)\n",
        "e = float(input(\"igrese la edad del usuario:\"))\n",
        "print(\"_\"*40)\n",
        "if e==0>=12:\n",
        "  print(\"nino\")\n",
        "if e==13>=19:\n",
        "  print(\"adolecente\")\n",
        "if e == 20>=64:\n",
        "  print(\"adultomayor\")\n",
        "if e>=65:\n",
        "  print(\"adulto mayor\")"
      ],
      "metadata": {
        "colab": {
          "base_uri": "https://localhost:8080/"
        },
        "id": "Z64XSmY8zUgQ",
        "outputId": "8ff98cf7-ca17-4d01-c08d-7ac2cfc07429"
      },
      "execution_count": 98,
      "outputs": [
        {
          "output_type": "stream",
          "name": "stdout",
          "text": [
            "con este programa podemos saber en que rango de nuestra edad estamos\n",
            "________________________________________\n",
            "igrese la edad del usuario:10\n",
            "________________________________________\n"
          ]
        }
      ]
    },
    {
      "cell_type": "code",
      "source": [],
      "metadata": {
        "id": "70ozzxmk1TRX"
      },
      "execution_count": null,
      "outputs": []
    }
  ]
}